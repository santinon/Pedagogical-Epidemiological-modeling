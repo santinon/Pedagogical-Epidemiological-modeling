{
 "cells": [
  {
   "cell_type": "markdown",
   "metadata": {},
   "source": [
    "# EPIDEMIOLOGICAL PREDICTIVE MODELS SCNENARIOS\n",
    "\n",
    "Keep in mind that the values used as inputs are fantasy as well as the output scnenarios and are only here for an educational illustration objective.  \n",
    "Non of these should be entirely representative of the reality.  \n",
    "Please see the corresponding publication to this work. Special thanks for Gonzales' public work, good inspirator, whitout him this work below would not have been possible."
   ]
  },
  {
   "cell_type": "markdown",
   "metadata": {},
   "source": [
    "##### The eleven parameters that have been used are (for both SIR and SEIIRS model):   \n",
    "-  rbeta = infection rate of infected asymptomatic people (weaker than symptomatics ones)\n",
    "\n",
    "\n",
    "-  pa =  fraction of Exposed (latent) people becoming infectious asymptomatic people afterwards\n",
    "\n",
    "\n",
    "-  R0 =  basic reproduction number = p * k * d = beta / mu\n",
    "\n",
    "\n",
    "-  mu = recovering rate = 1 / d\n",
    "\n",
    "\n",
    "-  phi =  immunity lost rate  \n",
    "\n",
    "\n",
    "-  beta = R0 * mu / (pa * rbeta + (1-pa)) = infection rate with 2 infectious compartments Ia and Is for SEIIRS model (for SIR model, beta is a value directly given within the code)\n",
    "\n",
    "\n",
    "-  epsilon = rate of transition  \n",
    "\n",
    "\n",
    "-  N = 1000000 = number total population  \n",
    "\n",
    "\n",
    "-  E0 = number of people initial exposed (who will become infectious)  \n",
    "\n",
    "\n",
    "-  S0 = N - E0 = nb Succeptibles  \n",
    "\n",
    "\n",
    "-  pd = rate of death \n",
    "\n",
    "        - Note: k = number contact(s)/day; p = I(t)/N = pb infection = passage from S to I (when I and S meet);                                      d = number of days person remains infectious"
   ]
  },
  {
   "cell_type": "code",
   "execution_count": 1,
   "metadata": {},
   "outputs": [],
   "source": [
    "# import libraries\n",
    "import numpy as np\n",
    "from scipy.integrate import odeint\n",
    "from matplotlib import pyplot as plt\n",
    "from matplotlib.pyplot import figure # to make plot bigger"
   ]
  },
  {
   "cell_type": "markdown",
   "metadata": {},
   "source": [
    "##  SIR MODEL"
   ]
  },
  {
   "cell_type": "code",
   "execution_count": 229,
   "metadata": {},
   "outputs": [],
   "source": [
    "# The SIR Model\n",
    "def SIRmodel(z, t, N, beta, mu):\n",
    "\n",
    "    ItN = z[1] / N # I(t)/N = fraction of infected people\n",
    "    \n",
    "    dSdt = -beta * z[0] * ItN  # dS/dt\n",
    "    dIdt = beta * z[0] * ItN - (mu * z[1]) # dIa/dt\n",
    "    dRdt = (mu * z[1]) # dR/dt\n",
    "    return([dSdt, dIdt, dRdt])"
   ]
  },
  {
   "cell_type": "code",
   "execution_count": 230,
   "metadata": {},
   "outputs": [],
   "source": [
    "def ODE_SIR (N, beta, mu, I0, R0):\n",
    "\n",
    "    # infection rate with only one infectious compartment I\n",
    "    S0 = N - I0 # nb Succeptibles\n",
    "    z0 = [S0, I0, R0] # initial parameters\n",
    "    \n",
    "    t = np.linspace(0, 365)\n",
    "    z = odeint(SIRmodel, z0, t, args=(N, beta, mu)) # returns Z = updated param.\n",
    "    return z,t"
   ]
  },
  {
   "cell_type": "code",
   "execution_count": 231,
   "metadata": {},
   "outputs": [],
   "source": [
    "def plot_SIR(N, beta, mu, I0, R0):\n",
    "    z,t = ODE_SIR(N, beta, mu, I0, R0)\n",
    "    figure(num=None, figsize=(8, 6), dpi=80) # makes plots bigger\n",
    "    plt.plot(t, z[:,0], label= None ,color = 'white')# N times the same in order to\n",
    "    plt.plot(t, z[:,0], label= None ,color = 'white')# be able to print the\n",
    "    plt.plot(t, z[:,0], label= None ,color = 'white')# params legends N-times,\n",
    "    plt.plot(t, z[:,0], label= None ,color = 'white')# does not work overwise\n",
    "    params = plt.legend(('R0 = '+ str(R0),\n",
    "                        'mu = '+ str(mu), \n",
    "                        'beta = '+ str(beta)),\n",
    "                        loc='best')\n",
    "                        #bbox_to_anchor=(1, 0.5))\n",
    "    plt.plot(t, z[:,0], label='Succeptibles', color = 'tab:blue')\n",
    "    plt.plot(t, z[:,1], label='Infected', color = 'tab:orange')\n",
    "    plt.plot(t, z[:,2], label='Recovered', color = 'tab:green')\n",
    "    #plt.xlabel('Time in days')\n",
    "    #plt.ylabel('Population')\n",
    "\n",
    "    #plt.legend(loc= 'center')\n",
    "    plt.gca().add_artist(params)\n",
    "    # to safe image in folder and avoid undesirable, whitespace around the image\n",
    "    plt.savefig('SIR6.png', bbox_inches='tight')\n",
    "    \n",
    "    return plt.figure()"
   ]
  },
  {
   "cell_type": "code",
   "execution_count": 232,
   "metadata": {},
   "outputs": [
    {
     "data": {
      "text/plain": [
       "<Figure size 432x288 with 0 Axes>"
      ]
     },
     "execution_count": 232,
     "metadata": {},
     "output_type": "execute_result"
    },
    {
     "data": {
      "image/png": "[encoded data removed]",
      "text/plain": [
       "<Figure size 640x480 with 1 Axes>"
      ]
     },
     "metadata": {
      "needs_background": "light"
     },
     "output_type": "display_data"
    },
    {
     "data": {
      "text/plain": [
       "<Figure size 432x288 with 0 Axes>"
      ]
     },
     "metadata": {},
     "output_type": "display_data"
    }
   ],
   "source": [
    "plot_SIR(N= 1000000, beta = 0.2, mu = 0.1, I0 = 10, R0 = 2)"
   ]
  },
  {
   "cell_type": "markdown",
   "metadata": {},
   "source": [
    "## SEIIRS MODEL"
   ]
  },
  {
   "cell_type": "code",
   "execution_count": 9,
   "metadata": {},
   "outputs": [],
   "source": [
    "# The SEIIRS model\n",
    "\n",
    "def SEIIRS_model(z, t, rbeta, beta, mu, epsilon, phi, pa, pd, N):\n",
    "    IatN = z[2] / N #  number infected asym\n",
    "    IstN = z[3] / N #  number infected sym\n",
    "    \n",
    "    # dS/dt \n",
    "    dSdt = -(beta * z[0] * IstN)  - (beta * rbeta * z[0] * IatN) + (phi * z[5]) \n",
    "    # dE/dt \n",
    "    dEdt = (beta * rbeta * z[0] * IatN) + (beta * z[0] * IstN) - (epsilon * z[1] * pa) - (epsilon * z[1] * (1-pa))\n",
    "    # dIa/dt \n",
    "    dIadt = (pa * epsilon * z[1]) - (mu * z[2])\n",
    "    # dIs/dt \n",
    "    dIsdt = ((1 - pa) * epsilon * z[1]) - (mu * z[3] * pd) - (mu * (1-pd) * z[3])\n",
    "    # dR/dt \n",
    "    dRdt = (mu * z[2]) + (mu * (1-pd) * z[3]) - (phi * z[4])\n",
    "    # dD/dt\n",
    "    dDdt = mu * pd * z[3] \n",
    "    return([dSdt, dEdt, dIadt, dIsdt, dRdt, dDdt])"
   ]
  },
  {
   "cell_type": "code",
   "execution_count": 10,
   "metadata": {},
   "outputs": [],
   "source": [
    "def ODE_SEIIRS(rbeta, mu, epsilon, phi, pa, pd, R0, N, E0):\n",
    "\n",
    "    beta = R0 * mu / (pa * rbeta +(1-pa)) # infection rate with 2 infectious compartments Ia and Is\n",
    "    S0 = N - E0 # nb Succeptibles\n",
    "    z0 = [S0, E0, 0, 0, 0, 0] # initial parameters\n",
    "    \n",
    "    t = np.linspace(0, 365)\n",
    "    z = odeint(SEIIRS_model, z0, t, args=(rbeta, beta, mu, epsilon, phi, pa, pd, N)) # returns Z = updated param.\n",
    "    return z,t,beta"
   ]
  },
  {
   "cell_type": "code",
   "execution_count": 233,
   "metadata": {},
   "outputs": [],
   "source": [
    "def plot_SEIIRS(rbeta, mu, epsilon, phi, pa, pd, R0, N, E0):\n",
    "    \n",
    "    # import params from the ODE resolution\n",
    "    z,t,beta = ODE_SEIIRS(rbeta, mu, epsilon, phi, pa, pd, R0, N, E0)\n",
    "    \n",
    "    # ploting part\n",
    "    figure(figsize=(8, 6), dpi=86) # makes plot bigger\n",
    "    plt.plot(t, z[:,0], label= None ,color = 'white')# X times the same in order to\n",
    "    plt.plot(t, z[:,0], label= None ,color = 'white')# be able to print the X\n",
    "    plt.plot(t, z[:,0], label= None ,color = 'white')# params legends outside,\n",
    "    plt.plot(t, z[:,0], label= None ,color = 'white')# does not work overwise\n",
    "    plt.plot(t, z[:,0], label= None ,color = 'white')\n",
    "    plt.plot(t, z[:,0], label= None ,color = 'white')\n",
    "    plt.plot(t, z[:,0], label= None ,color = 'white')\n",
    "    plt.plot(t, z[:,0], label= None ,color = 'white')\n",
    "    plt.plot(t, z[:,0], label= None ,color = 'white')\n",
    "\n",
    "    # parameters and compartments ploting\n",
    "    params = plt.legend(('R0 = '+ str(R0),\n",
    "                         'E0 = '+ str(E0),'phi = '+ str(phi),\n",
    "                         'rbeta = '+ str(rbeta),\n",
    "                         'beta = '+ str(round(beta,2)), \n",
    "                         'epsilon = '+ str(epsilon),\n",
    "                         'pa = '+ str(pa),\n",
    "                         'pd = '+str(pd),\n",
    "                         'mu = '+ str(mu)),\n",
    "                         loc='best',\n",
    "                         prop={'size': 12})\n",
    "                        #bbox_to_anchor=(1, 0.5)) # outside plot \n",
    "    plt.plot(t, z[:,0], label='Succeptibles')\n",
    "    plt.plot(t, z[:,1], label='Exposed/Latents')\n",
    "    plt.plot(t, z[:,2], label='Asymptomatics')\n",
    "    plt.plot(t, z[:,3], label='Symptomatics')\n",
    "    plt.plot(t, z[:,4], label='Recovered')\n",
    "    plt.plot(t, z[:,5], label='Deaths', color='black')\n",
    "    #plt.title(\"Compartments' dynamical evolutions over time\")\n",
    "    #plt.xlabel('Time in days')\n",
    "    #plt.ylabel('Population')\n",
    "    \n",
    "      # incorporates compartments legends as a 1st legend\n",
    "    #plt.legend(loc='center left', prop={'size': 12})\n",
    "    \n",
    "      # incorporates params legends as a 2nd legend \n",
    "    plt.gca().add_artist(params) \n",
    "    \n",
    "    # to safe image in folder and avoid undesirable, whitespace around the image\n",
    "    #plt.savefig('foo1.png', bbox_inches='tight')\n",
    "    \n",
    "    return plt.figure()"
   ]
  },
  {
   "cell_type": "code",
   "execution_count": 234,
   "metadata": {},
   "outputs": [
    {
     "data": {
      "text/plain": [
       "<Figure size 432x288 with 0 Axes>"
      ]
     },
     "execution_count": 234,
     "metadata": {},
     "output_type": "execute_result"
    },
    {
     "data": {
      "image/png": "[encoded data removed]",
      "text/plain": [
       "<Figure size 688x516 with 1 Axes>"
      ]
     },
     "metadata": {
      "needs_background": "light"
     },
     "output_type": "display_data"
    },
    {
     "data": {
      "text/plain": [
       "<Figure size 432x288 with 0 Axes>"
      ]
     },
     "metadata": {},
     "output_type": "display_data"
    }
   ],
   "source": [
    "# plots with differents parameters (inputs) to see different predictions (output) scenarios\n",
    "#plot_SEIIRS(rbeta = 0.75,pa = 0.4,R0 = 2,mu = 0.1,phi = 0.01,epsilon = 0.5,N = 1000000,E0 = 10,pd = 0.1) # 1\n",
    "#plot_SEIIRS( rbeta = 1.5,pa = 0.8,R0 = 2.0,mu = 0.1,phi = 0.01,epsilon = 1,N = 1000000,E0 = 10,pd = 0.1) # 2 \n",
    "#plot_SEIIRS(rbeta = 2,pa = 0.9,R0 = 2.0,mu = 0.1,phi = 0.01,epsilon = 1.5,N = 1000000,E0 = 10,pd = 0.1) # 3\n",
    "#plot_SEIIRS(rbeta =0.75,pa = 0.8,R0 = 2.0,mu = 0.05,phi = 0.01,epsilon = 0.5,N = 1000000,E0 = 10,pd = 0.1) # 4\n",
    "#plot_SEIIRS(rbeta = 1,pa = 0.4,R0 = 2.0,mu = 0.1,phi = 0.01,epsilon = 0.8,N = 1000000,E0 = 10,pd = 0.1) # 5\n",
    "plot_SEIIRS(rbeta = 2,pa = 0.2,R0 = 2.0,mu = 0.8,phi = 0.01,epsilon = 0.5,N = 1000000,E0 = 10,pd = 0.1) # 6"
   ]
  }
 ],
 "metadata": {
  "kernelspec": {
   "display_name": "corona",
   "language": "python",
   "name": "corona"
  },
  "language_info": {
   "codemirror_mode": {
    "name": "ipython",
    "version": 3
   },
   "file_extension": ".py",
   "mimetype": "text/x-python",
   "name": "python",
   "nbconvert_exporter": "python",
   "pygments_lexer": "ipython3",
   "version": "3.6.9"
  }
 },
 "nbformat": 4,
 "nbformat_minor": 2
}
